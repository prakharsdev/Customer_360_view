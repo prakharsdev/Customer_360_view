{
 "cells": [
  {
   "cell_type": "code",
   "execution_count": null,
   "metadata": {},
   "outputs": [],
   "source": [
    "# Visualization configuration example\n",
    "visualization_config = {\n",
    "    \"title\": \"Customer Dashboard\",\n",
    "    \"visualizations\": [\n",
    "        {\n",
    "            \"type\": \"pie\",\n",
    "            \"title\": \"Customer Segments\",\n",
    "            \"source\": \"customer_index\",\n",
    "            \"field\": \"segment\"\n",
    "        },\n",
    "        {\n",
    "            \"type\": \"bar\",\n",
    "            \"title\": \"Customer Distribution by Age\",\n",
    "            \"source\": \"customer_index\",\n",
    "            \"field\": \"age\"\n",
    "        }\n",
    "    ]\n",
    "}"
   ]
  },
  {
   "cell_type": "code",
   "execution_count": null,
   "metadata": {},
   "outputs": [],
   "source": [
    "# Display configuration\n",
    "import json\n",
    "print(json.dumps(visualization_config, indent=4))"
   ]
  }
 ],
 "metadata": {
  "language_info": {
   "name": "python"
  }
 },
 "nbformat": 4,
 "nbformat_minor": 2
}
