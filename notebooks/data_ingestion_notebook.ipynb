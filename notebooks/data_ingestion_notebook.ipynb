{
 "cells": [
  {
   "cell_type": "code",
   "execution_count": null,
   "metadata": {},
   "outputs": [],
   "source": [
    "# Import necessary libraries\n",
    "from kafka import KafkaProducer\n",
    "import json"
   ]
  },
  {
   "cell_type": "code",
   "execution_count": null,
   "metadata": {},
   "outputs": [],
   "source": [
    "# Kafka configuration\n",
    "KAFKA_BROKER_URL = 'localhost:9092'\n",
    "TOPIC_NAME = 'crm_topic'\n"
   ]
  },
  {
   "cell_type": "code",
   "execution_count": null,
   "metadata": {},
   "outputs": [],
   "source": [
    "# Initialize Kafka producer\n",
    "producer = KafkaProducer(\n",
    "    bootstrap_servers=KAFKA_BROKER_URL,\n",
    "    value_serializer=lambda v: json.dumps(v).encode('utf-8')\n",
    ")"
   ]
  },
  {
   "cell_type": "code",
   "execution_count": null,
   "metadata": {},
   "outputs": [],
   "source": [
    "# Sample data\n",
    "crm_data = [\n",
    "    {\"customer_id\": 1, \"name\": \"John Doe\", \"email\": \"john.doe@example.com\", \"phone\": \"123-456-7890\"},\n",
    "    {\"customer_id\": 2, \"name\": \"Jane Smith\", \"email\": \"jane.smith@example.com\", \"phone\": \"987-654-3210\"}\n",
    "]"
   ]
  },
  {
   "cell_type": "code",
   "execution_count": null,
   "metadata": {},
   "outputs": [],
   "source": [
    "# Produce data to Kafka\n",
    "for data in crm_data:\n",
    "    producer.send(TOPIC_NAME, value=data)\n",
    "    print(f'Produced: {data}')\n",
    "\n",
    "producer.flush()\n",
    "producer.close()"
   ]
  }
 ],
 "metadata": {
  "language_info": {
   "name": "python"
  }
 },
 "nbformat": 4,
 "nbformat_minor": 2
}
